{
  "cells": [
    {
      "cell_type": "markdown",
      "id": "ZpI-S9-Hp-En",
      "metadata": {
        "id": "ZpI-S9-Hp-En"
      },
      "source": [
        "# 情緒分析\n",
        "\n",
        "資料集: [Learning Word Vectors for Sentiment Analysis](https://aclanthology.org/P11-1015.pdf)\n",
        "\n",
        "程式碼參考自: [huggingface](https://huggingface.co/)\n",
        "\n",
        "> **資料集說明**\n",
        "\n",
        "Large Movie Review Dataset. This is a dataset for binary sentiment classification containing substantially more data than previous benchmark datasets. We provide a set of 25,000 highly polar movie reviews for training, and 25,000 for testing. There is additional unlabeled data for use as well.\n",
        "\n",
        ">**本次介紹模型為BERT**\n",
        "\n",
        "[BERT: Pre-training of Deep Bidirectional Transformers for Language Understanding](https://github.com/google-research/bert)\n",
        "\n",
        "程式碼參考自: [huggingface](https://huggingface.co/)\n",
        "\n",
        "![](https://i.imgur.com/spiKPbQ.png)\n",
        "\n",
        "[可搭配李宏毅大大的說明影片食用](https://youtu.be/UYPa347-DdE)\n",
        "\n",
        "**訓練一個BERT分類模型，輸入是一句話，辨識出這句話的情緒傾向。**\n",
        "\n",
        "\n",
        ">**作業說明**\n",
        "\n",
        "**第一步驟**: 左上角 檔案 -> 在雲端硬碟建立副本。\n",
        "\n",
        "**第二步驟**: 右上角 共用 -> 取得連結 -> 任何知道這個連結的人都能編輯\n",
        "\n",
        "**第三步驟**: 左上角 執行階段 -> 更變執行類型 -> GPU。 可以加快模型速度\n",
        "\n",
        "**第四步驟**: 檔案名稱，請填寫你的學號，把副本上下引號刪掉。 **如 \"HW2-BERT-111423048.ipynb\"**\n",
        "\n",
        "請 **隨意修改** 這個colab的程式來完成訓練BERT分類模型。**要跑得出來Testing Accuracy, 須完成TODO1-7**，不必一定要照著提示走。\n",
        "繳交時記得改檔案標題的學號。\n",
        "\n",
        "本次作業著重在學習pytorch的使用方法及Transformer家族中BERT的應用。\n",
        "\n",
        "> **作業限制**\n",
        "\n",
        "1. 不要動資料集、不要在訓練時偷看 test data\n",
        "2. 模型可自行多嘗試不同組合，**不能只用已經pretrained好的模型**，一定再用新的資料訓練過\n",
        "3. **不要抄襲**\n",
        "\n",
        "> **作業繳交**\n",
        "\n",
        "1. 完成訓練後保存output結果，更改**檔名學號**，左上角 檔案->下載 成ipynb檔。\n",
        "2. 交一個pdf檔，裡面需要附上**你的作業colab連結(設為可編輯)**、姓名學號年級、過程和執行結果的截圖，並說明你程式撰寫的過程、本次作業心得(字數不限)。\n",
        "3. 文件內至少應貼上你的 Test Acc\n",
        "4. 上述兩個檔案繳交至 ee-class。\n",
        "\n",
        "> **算分標準**\n",
        "\n",
        "* 基本分（90%）：(Test_Acc - 60）(35%) + Training function（20%） + Model（15%） + 文件（20%）\n",
        "1. (Test_Acc - 60）: 用訓練完的 bert-base-uncased 模型去看 Test 資料的 accuracy 再減去 60，最低此項目 0 分，最高此項目 35 分\n",
        "2. Training function : 完成前置準備所需的程式碼 ( 資料處理等 )，共 20 分 ( 包含 TODO1-4)\n",
        "3. Model: 完成模型建構 ，模型訓練及模型預測 ，共 15 分 (TODO5-7)\n",
        "4. 文件: 共 20 分\n",
        "  * 姓名、學號、年級（1%）\n",
        "  * colab 連結（1%）\n",
        "  * Test accuracy（2%）\n",
        "  * 撰寫過程與截圖（8%）\n",
        "  * 心得（8%，至少 50 字）\n",
        "\n",
        "* 加分項（10分）：請附上二種的pretrained模型結果（一個5分）**[Transformer 模型總覽](https://huggingface.co/docs/transformers/index)**\n",
        "\n",
        "> 舉例：原本是 bert-base-uncased （完成這個就已經有 5 分了），如果你換其他模型如 distilbert-base-uncased ，再完成一次並記錄結果可以再加 5 分（ 可在文件中敘述不同模型的差異或建議 ）\n",
        "\n",
        "\n",
        "\n"
      ]
    },
    {
      "cell_type": "markdown",
      "id": "6Y3gm_UxqEr1",
      "metadata": {
        "id": "6Y3gm_UxqEr1"
      },
      "source": [
        "### 資料集下載\n",
        "\n",
        "- 資料集說明 :\n",
        "  - text: a string feature.\n",
        "  - label: a classification label, with possible values including neg (0), pos (1)."
      ]
    },
    {
      "cell_type": "markdown",
      "id": "9aKF-XVUggmA",
      "metadata": {
        "id": "9aKF-XVUggmA"
      },
      "source": [
        "### 請注意\n",
        "* TODO\n",
        "> ```\n",
        "> ##########\n",
        "> # todo #\n",
        "> ##########\n",
        "> ```"
      ]
    },
    {
      "cell_type": "markdown",
      "id": "8zVpYXmzXyQ4",
      "metadata": {
        "id": "8zVpYXmzXyQ4"
      },
      "source": [
        "## 安裝與載入所需套件"
      ]
    },
    {
      "cell_type": "code",
      "execution_count": null,
      "id": "sGLfFjfXYIQ8",
      "metadata": {
        "colab": {
          "base_uri": "https://localhost:8080/"
        },
        "id": "sGLfFjfXYIQ8",
        "outputId": "03634d13-6bc4-47c0-e14d-f3f8d0a1b4ea"
      },
      "outputs": [
        {
          "name": "stdout",
          "output_type": "stream",
          "text": [
            "Requirement already satisfied: datasets in /usr/local/lib/python3.11/dist-packages (3.5.0)\n",
            "Requirement already satisfied: transformers in /usr/local/lib/python3.11/dist-packages (4.51.3)\n",
            "Requirement already satisfied: filelock in /usr/local/lib/python3.11/dist-packages (from datasets) (3.18.0)\n",
            "Requirement already satisfied: numpy>=1.17 in /usr/local/lib/python3.11/dist-packages (from datasets) (2.0.2)\n",
            "Requirement already satisfied: pyarrow>=15.0.0 in /usr/local/lib/python3.11/dist-packages (from datasets) (18.1.0)\n",
            "Requirement already satisfied: dill<0.3.9,>=0.3.0 in /usr/local/lib/python3.11/dist-packages (from datasets) (0.3.8)\n",
            "Requirement already satisfied: pandas in /usr/local/lib/python3.11/dist-packages (from datasets) (2.2.2)\n",
            "Requirement already satisfied: requests>=2.32.2 in /usr/local/lib/python3.11/dist-packages (from datasets) (2.32.3)\n",
            "Requirement already satisfied: tqdm>=4.66.3 in /usr/local/lib/python3.11/dist-packages (from datasets) (4.67.1)\n",
            "Requirement already satisfied: xxhash in /usr/local/lib/python3.11/dist-packages (from datasets) (3.5.0)\n",
            "Requirement already satisfied: multiprocess<0.70.17 in /usr/local/lib/python3.11/dist-packages (from datasets) (0.70.16)\n",
            "Requirement already satisfied: fsspec<=2024.12.0,>=2023.1.0 in /usr/local/lib/python3.11/dist-packages (from fsspec[http]<=2024.12.0,>=2023.1.0->datasets) (2024.12.0)\n",
            "Requirement already satisfied: aiohttp in /usr/local/lib/python3.11/dist-packages (from datasets) (3.11.15)\n",
            "Requirement already satisfied: huggingface-hub>=0.24.0 in /usr/local/lib/python3.11/dist-packages (from datasets) (0.30.2)\n",
            "Requirement already satisfied: packaging in /usr/local/lib/python3.11/dist-packages (from datasets) (24.2)\n",
            "Requirement already satisfied: pyyaml>=5.1 in /usr/local/lib/python3.11/dist-packages (from datasets) (6.0.2)\n",
            "Requirement already satisfied: regex!=2019.12.17 in /usr/local/lib/python3.11/dist-packages (from transformers) (2024.11.6)\n",
            "Requirement already satisfied: tokenizers<0.22,>=0.21 in /usr/local/lib/python3.11/dist-packages (from transformers) (0.21.1)\n",
            "Requirement already satisfied: safetensors>=0.4.3 in /usr/local/lib/python3.11/dist-packages (from transformers) (0.5.3)\n",
            "Requirement already satisfied: aiohappyeyeballs>=2.3.0 in /usr/local/lib/python3.11/dist-packages (from aiohttp->datasets) (2.6.1)\n",
            "Requirement already satisfied: aiosignal>=1.1.2 in /usr/local/lib/python3.11/dist-packages (from aiohttp->datasets) (1.3.2)\n",
            "Requirement already satisfied: attrs>=17.3.0 in /usr/local/lib/python3.11/dist-packages (from aiohttp->datasets) (25.3.0)\n",
            "Requirement already satisfied: frozenlist>=1.1.1 in /usr/local/lib/python3.11/dist-packages (from aiohttp->datasets) (1.5.0)\n",
            "Requirement already satisfied: multidict<7.0,>=4.5 in /usr/local/lib/python3.11/dist-packages (from aiohttp->datasets) (6.4.3)\n",
            "Requirement already satisfied: propcache>=0.2.0 in /usr/local/lib/python3.11/dist-packages (from aiohttp->datasets) (0.3.1)\n",
            "Requirement already satisfied: yarl<2.0,>=1.17.0 in /usr/local/lib/python3.11/dist-packages (from aiohttp->datasets) (1.19.0)\n",
            "Requirement already satisfied: typing-extensions>=3.7.4.3 in /usr/local/lib/python3.11/dist-packages (from huggingface-hub>=0.24.0->datasets) (4.13.2)\n",
            "Requirement already satisfied: charset-normalizer<4,>=2 in /usr/local/lib/python3.11/dist-packages (from requests>=2.32.2->datasets) (3.4.1)\n",
            "Requirement already satisfied: idna<4,>=2.5 in /usr/local/lib/python3.11/dist-packages (from requests>=2.32.2->datasets) (3.10)\n",
            "Requirement already satisfied: urllib3<3,>=1.21.1 in /usr/local/lib/python3.11/dist-packages (from requests>=2.32.2->datasets) (2.3.0)\n",
            "Requirement already satisfied: certifi>=2017.4.17 in /usr/local/lib/python3.11/dist-packages (from requests>=2.32.2->datasets) (2025.1.31)\n",
            "Requirement already satisfied: python-dateutil>=2.8.2 in /usr/local/lib/python3.11/dist-packages (from pandas->datasets) (2.8.2)\n",
            "Requirement already satisfied: pytz>=2020.1 in /usr/local/lib/python3.11/dist-packages (from pandas->datasets) (2025.2)\n",
            "Requirement already satisfied: tzdata>=2022.7 in /usr/local/lib/python3.11/dist-packages (from pandas->datasets) (2025.2)\n",
            "Requirement already satisfied: six>=1.5 in /usr/local/lib/python3.11/dist-packages (from python-dateutil>=2.8.2->pandas->datasets) (1.17.0)\n"
          ]
        }
      ],
      "source": [
        "!pip install datasets transformers"
      ]
    },
    {
      "cell_type": "code",
      "execution_count": null,
      "id": "ej79ZzPJXyQ5",
      "metadata": {
        "id": "ej79ZzPJXyQ5"
      },
      "outputs": [],
      "source": [
        "from torch.utils.data import Dataset, DataLoader\n",
        "from transformers import AutoTokenizer\n",
        "from transformers.models.bert.modeling_bert import BertPreTrainedModel, BertModel\n",
        "from sklearn.model_selection import train_test_split\n",
        "import torch\n",
        "import torch.nn.functional as Fun\n",
        "import transformers\n",
        "import matplotlib.pyplot as plt\n",
        "import pandas as pd\n",
        "import time\n",
        "import warnings\n",
        "warnings.filterwarnings('ignore') # setting ignore as a parameter\n"
      ]
    },
    {
      "cell_type": "markdown",
      "id": "kFHx_Dq5XyQ7",
      "metadata": {
        "id": "kFHx_Dq5XyQ7"
      },
      "source": [
        "## 一些模型會用到的小函數"
      ]
    },
    {
      "cell_type": "markdown",
      "id": "i6gcO4YfxzeT",
      "metadata": {
        "id": "i6gcO4YfxzeT"
      },
      "source": [
        "* TODO1: 完成get_pred()\n",
        "> 從logits的dimension=1去取得結果中數值最高者當做預測結果\n",
        "* TODO2: 完成cal_metrics()\n",
        "> 透過將tensor轉為numpy，可使用sklearn的套件算出acc, f1_score, recall及precision"
      ]
    },
    {
      "cell_type": "code",
      "execution_count": null,
      "id": "nOSkuPT7XyQ8",
      "metadata": {
        "id": "nOSkuPT7XyQ8"
      },
      "outputs": [],
      "source": [
        "# get predict result\n",
        "def get_pred(logits):\n",
        "  ##########\n",
        "  # todo #\n",
        "  return logits.argmax(dim = -1)\n",
        "  ##########\n",
        "\n",
        "from sklearn.metrics import accuracy_score, f1_score, recall_score, precision_score\n",
        "\n",
        "def cal_metrics(pred, ans, average='macro'):\n",
        "    ##########\n",
        "    # todo #\n",
        "    pred = pred.detach().cpu().numpy()\n",
        "    ans = ans.detach().cpu().numpy()\n",
        "\n",
        "    acc = accuracy_score(pred, ans)\n",
        "    f1 = f1_score(pred, ans, average=average)\n",
        "    recall = recall_score(pred, ans, average=average)\n",
        "    precision = precision_score(pred, ans, average=average)\n",
        "\n",
        "    return acc, f1, recall, precision\n",
        "    ##########\n"
      ]
    },
    {
      "cell_type": "code",
      "execution_count": null,
      "id": "RuLxKpySXyQ-",
      "metadata": {
        "id": "RuLxKpySXyQ-"
      },
      "outputs": [],
      "source": [
        "# save model to path\n",
        "def save_checkpoint(save_path, model):\n",
        "  if save_path == None:\n",
        "      return\n",
        "  torch.save(model.state_dict(), save_path)\n",
        "  print(f'Model saved to ==> {save_path}')\n",
        "\n",
        "# load model from path\n",
        "def load_checkpoint(load_path, model, device):\n",
        "  if load_path==None:\n",
        "      return\n",
        "  state_dict = torch.load(load_path, map_location=device)\n",
        "  print(f'Model loaded from <== {load_path}')\n",
        "\n",
        "  model.load_state_dict(state_dict)\n",
        "  return model"
      ]
    },
    {
      "cell_type": "markdown",
      "id": "ioYB1sE_XyRA",
      "metadata": {
        "id": "ioYB1sE_XyRA"
      },
      "source": [
        "## 載入資料\n",
        "\n",
        "這個資料集有分成train, test, unsupervised。\n",
        "\n",
        "這次我們只使用train及test資料，且我們需要將原資料重新進行分割。\n",
        "\n",
        "將兩份資料合併後切割成 3:1:1 或是 8:1:1 的 train/val/test 資料集。"
      ]
    },
    {
      "cell_type": "code",
      "execution_count": null,
      "id": "r_mBNUdCA410",
      "metadata": {
        "id": "r_mBNUdCA410"
      },
      "outputs": [],
      "source": [
        "from datasets import load_dataset\n",
        "\n",
        "dataset = load_dataset(\"imdb\")"
      ]
    },
    {
      "cell_type": "markdown",
      "id": "07XTeYjcTen9",
      "metadata": {
        "id": "07XTeYjcTen9"
      },
      "source": [
        "看一下資料格式長怎樣"
      ]
    },
    {
      "cell_type": "code",
      "execution_count": null,
      "id": "JxuLKpupMejB",
      "metadata": {
        "colab": {
          "base_uri": "https://localhost:8080/"
        },
        "id": "JxuLKpupMejB",
        "outputId": "049c1a11-7907-4fa2-e2a5-bcad648765b2"
      },
      "outputs": [
        {
          "data": {
            "text/plain": [
              "DatasetDict({\n",
              "    train: Dataset({\n",
              "        features: ['text', 'label'],\n",
              "        num_rows: 25000\n",
              "    })\n",
              "    test: Dataset({\n",
              "        features: ['text', 'label'],\n",
              "        num_rows: 25000\n",
              "    })\n",
              "    unsupervised: Dataset({\n",
              "        features: ['text', 'label'],\n",
              "        num_rows: 50000\n",
              "    })\n",
              "})"
            ]
          },
          "execution_count": 82,
          "metadata": {},
          "output_type": "execute_result"
        }
      ],
      "source": [
        "dataset"
      ]
    },
    {
      "cell_type": "code",
      "execution_count": null,
      "id": "fkrrOqXdTaaE",
      "metadata": {
        "colab": {
          "base_uri": "https://localhost:8080/"
        },
        "id": "fkrrOqXdTaaE",
        "outputId": "abbb28ca-b3f4-418c-e5d9-70a7365e118d"
      },
      "outputs": [
        {
          "data": {
            "text/plain": [
              "{'text': 'I rented I AM CURIOUS-YELLOW from my video store because of all the controversy that surrounded it when it was first released in 1967. I also heard that at first it was seized by U.S. customs if it ever tried to enter this country, therefore being a fan of films considered \"controversial\" I really had to see this for myself.<br /><br />The plot is centered around a young Swedish drama student named Lena who wants to learn everything she can about life. In particular she wants to focus her attentions to making some sort of documentary on what the average Swede thought about certain political issues such as the Vietnam War and race issues in the United States. In between asking politicians and ordinary denizens of Stockholm about their opinions on politics, she has sex with her drama teacher, classmates, and married men.<br /><br />What kills me about I AM CURIOUS-YELLOW is that 40 years ago, this was considered pornographic. Really, the sex and nudity scenes are few and far between, even then it\\'s not shot like some cheaply made porno. While my countrymen mind find it shocking, in reality sex and nudity are a major staple in Swedish cinema. Even Ingmar Bergman, arguably their answer to good old boy John Ford, had sex scenes in his films.<br /><br />I do commend the filmmakers for the fact that any sex shown in the film is shown for artistic purposes rather than just to shock people and make money to be shown in pornographic theaters in America. I AM CURIOUS-YELLOW is a good film for anyone wanting to study the meat and potatoes (no pun intended) of Swedish cinema. But really, this film doesn\\'t have much of a plot.',\n",
              " 'label': 0}"
            ]
          },
          "execution_count": 83,
          "metadata": {},
          "output_type": "execute_result"
        }
      ],
      "source": [
        "dataset['train'][0]"
      ]
    },
    {
      "cell_type": "markdown",
      "id": "6JN_QzdbSR2I",
      "metadata": {
        "id": "6JN_QzdbSR2I"
      },
      "source": [
        "* TODO3:把資料拿出來後，將train及test合併，重新切割後，儲存下來。"
      ]
    },
    {
      "cell_type": "code",
      "execution_count": null,
      "id": "PHWieZNXIos5",
      "metadata": {
        "id": "PHWieZNXIos5"
      },
      "outputs": [],
      "source": [
        "import pandas as pd\n",
        "\n",
        "all_data = [] # a list to save all data\n",
        "\n",
        "##########\n",
        "# todo #\n",
        "for data in dataset['train']:\n",
        "  all_data.append({\"text\": data[\"text\"], \"label\": int(data[\"label\"])})\n",
        "\n",
        "for data in dataset['test']:\n",
        "  all_data.append({\"text\": data[\"text\"], \"label\": int(data[\"label\"])})\n",
        "\n",
        "all_df = pd.DataFrame(all_data)\n",
        "##########"
      ]
    },
    {
      "cell_type": "markdown",
      "id": "-15N5wI3zmJ_",
      "metadata": {
        "id": "-15N5wI3zmJ_"
      },
      "source": [
        "可以看一下兩個類別分布的比例"
      ]
    },
    {
      "cell_type": "code",
      "execution_count": null,
      "id": "mSQjyAzaoAJD",
      "metadata": {
        "colab": {
          "base_uri": "https://localhost:8080/",
          "height": 176
        },
        "id": "mSQjyAzaoAJD",
        "outputId": "38e13735-571c-4b44-af68-686db3a01116"
      },
      "outputs": [
        {
          "data": {
            "text/html": [
              "<div>\n",
              "<style scoped>\n",
              "    .dataframe tbody tr th:only-of-type {\n",
              "        vertical-align: middle;\n",
              "    }\n",
              "\n",
              "    .dataframe tbody tr th {\n",
              "        vertical-align: top;\n",
              "    }\n",
              "\n",
              "    .dataframe thead th {\n",
              "        text-align: right;\n",
              "    }\n",
              "</style>\n",
              "<table border=\"1\" class=\"dataframe\">\n",
              "  <thead>\n",
              "    <tr style=\"text-align: right;\">\n",
              "      <th></th>\n",
              "      <th>count</th>\n",
              "    </tr>\n",
              "    <tr>\n",
              "      <th>label</th>\n",
              "      <th></th>\n",
              "    </tr>\n",
              "  </thead>\n",
              "  <tbody>\n",
              "    <tr>\n",
              "      <th>0</th>\n",
              "      <td>0.5</td>\n",
              "    </tr>\n",
              "    <tr>\n",
              "      <th>1</th>\n",
              "      <td>0.5</td>\n",
              "    </tr>\n",
              "  </tbody>\n",
              "</table>\n",
              "</div><br><label><b>dtype:</b> float64</label>"
            ],
            "text/plain": [
              "label\n",
              "0    0.5\n",
              "1    0.5\n",
              "Name: count, dtype: float64"
            ]
          },
          "execution_count": 85,
          "metadata": {},
          "output_type": "execute_result"
        }
      ],
      "source": [
        "all_df.label.value_counts() / len(all_df)"
      ]
    },
    {
      "cell_type": "code",
      "execution_count": null,
      "id": "RhM_od5-Tpkc",
      "metadata": {
        "colab": {
          "base_uri": "https://localhost:8080/"
        },
        "id": "RhM_od5-Tpkc",
        "outputId": "c5c511bf-da64-4974-81b3-26e7319f700e"
      },
      "outputs": [
        {
          "name": "stdout",
          "output_type": "stream",
          "text": [
            "# of train_df: 40000\n",
            "# of dev_df: 5000\n",
            "# of test_df data: 5000\n"
          ]
        }
      ],
      "source": [
        "from sklearn.model_selection import train_test_split\n",
        "\n",
        "train_df, temp_data = train_test_split(all_df, random_state=1111, train_size=0.8)\n",
        "dev_df, test_df = train_test_split(temp_data, random_state=1111, train_size=0.5)\n",
        "print('# of train_df:', len(train_df))\n",
        "print('# of dev_df:', len(dev_df))\n",
        "print('# of test_df data:', len(test_df))\n",
        "\n",
        "# save data\n",
        "train_df.to_csv('./train.tsv', sep='\\t', index=False)\n",
        "dev_df.to_csv('./val.tsv', sep='\\t', index=False)\n",
        "test_df.to_csv('./test.tsv', sep='\\t', index=False)"
      ]
    },
    {
      "cell_type": "markdown",
      "id": "le1XiOWDXyRE",
      "metadata": {
        "id": "le1XiOWDXyRE"
      },
      "source": [
        "### 自定義 Dataset，將tokenzie的步驟放進去"
      ]
    },
    {
      "cell_type": "markdown",
      "id": "BdDpKblL0aU9",
      "metadata": {
        "id": "BdDpKblL0aU9"
      },
      "source": [
        "* TODO4: 完成tokenize()"
      ]
    },
    {
      "cell_type": "code",
      "execution_count": 1,
      "id": "yvkBgVIhXyRF",
      "metadata": {
        "id": "yvkBgVIhXyRF"
      },
      "outputs": [],
      "source": [
        "from torch.utils.data import Dataset\n",
        "import torch\n",
        "import torch.nn.functional as Fun\n",
        "from transformers import AutoTokenizer\n",
        "\n",
        "class CustomDataset(Dataset):\n",
        "    def __init__(self, mode, df, specify, args):\n",
        "        assert mode in [\"train\", \"val\", \"test\"]  # Ensure the mode is correct\n",
        "        self.mode = mode\n",
        "        self.df = df\n",
        "        self.specify = specify  # Column of data you use for prediction\n",
        "        if self.mode != 'test':\n",
        "            self.label = df['label']\n",
        "        self.tokenizer = AutoTokenizer.from_pretrained(args[\"config\"])\n",
        "        self.max_len = args[\"max_len\"]\n",
        "        self.num_class = args[\"num_class\"]\n",
        "\n",
        "    def __len__(self):\n",
        "        return len(self.df)\n",
        "\n",
        "    # Transform label to one-hot label (if num_class > 2)\n",
        "    def one_hot_label(self, label):\n",
        "        return Fun.one_hot(torch.tensor(label), num_classes=self.num_class)\n",
        "\n",
        "    # Tokenize the input text\n",
        "    def tokenize(self, input_text):\n",
        "        encoding = self.tokenizer.encode_plus(\n",
        "            input_text,\n",
        "            add_special_tokens=True,\n",
        "            max_length=self.max_len,\n",
        "            padding='max_length',\n",
        "            truncation=True,\n",
        "            return_tensors='pt',\n",
        "            return_attention_mask=True,\n",
        "            return_token_type_ids=True\n",
        "        )\n",
        "        input_ids = encoding['input_ids'].squeeze(0)\n",
        "        attention_mask = encoding['attention_mask'].squeeze(0)\n",
        "        token_type_ids = encoding['token_type_ids'].squeeze(0)\n",
        "\n",
        "        return input_ids, attention_mask, token_type_ids\n",
        "\n",
        "    # Get single data\n",
        "    def __getitem__(self, index):\n",
        "        sentence = str(self.df[self.specify][index])  # Get the text for this index\n",
        "        ids, mask, token_type_ids = self.tokenize(sentence)  # Tokenize the sentence\n",
        "\n",
        "        if self.mode == \"test\":\n",
        "            return torch.tensor(ids, dtype=torch.long), torch.tensor(mask, dtype=torch.long), torch.tensor(token_type_ids, dtype=torch.long)\n",
        "        else:\n",
        "            if self.num_class > 2:\n",
        "                return torch.tensor(ids, dtype=torch.long), torch.tensor(mask, dtype=torch.long), torch.tensor(token_type_ids, dtype=torch.long), self.one_hot_label(self.label[index])\n",
        "            else:\n",
        "                return torch.tensor(ids, dtype=torch.long), torch.tensor(mask, dtype=torch.long), torch.tensor(token_type_ids, dtype=torch.long), torch.tensor(self.label[index], dtype=torch.long)\n"
      ]
    },
    {
      "cell_type": "markdown",
      "id": "RQsY2rjue4Tm",
      "metadata": {
        "id": "RQsY2rjue4Tm"
      },
      "source": [
        "## 建立模型\n",
        "\n",
        "*   自己重新寫分類模型\n",
        "*   模型訓練與評估的程式碼大致上相同，差別在於模型是否繼續進行梯度下降，以及模型參數是否繼續訓練\n",
        "\n"
      ]
    },
    {
      "cell_type": "markdown",
      "id": "7Dgb-mW30jhI",
      "metadata": {
        "id": "7Dgb-mW30jhI"
      },
      "source": [
        "* TODO5: 完成BertClassifier\n",
        "> 在初始化的地方加上dropout, linear layer（等於一層NN），其維度為類別數量；\n",
        "> 在forward function中把輸入值放進對應層數（bert -> dropout -> classifier）；\n",
        "> 請注意我們只取用bert輸出的sentence representation去做分類"
      ]
    },
    {
      "cell_type": "code",
      "execution_count": null,
      "id": "suyj5WLJXyQ7",
      "metadata": {
        "id": "suyj5WLJXyQ7"
      },
      "outputs": [],
      "source": [
        "# BERT Model\n",
        "class BertClassifier(BertPreTrainedModel):\n",
        "  def __init__(self, config, args):\n",
        "    super(BertClassifier, self).__init__(config)\n",
        "    self.bert = BertModel(config)\n",
        "    ##########\n",
        "    # todo #\n",
        "    self.dropout = torch.nn.Dropout(args[\"dropout\"])\n",
        "    self.classifier = torch.nn.Linear(config.hidden_size, args[\"num_class\"])\n",
        "    ##########\n",
        "    self.init_weights()\n",
        "\n",
        "  def forward(self, input_ids=None, attention_mask=None, token_type_ids=None, position_ids=None,\n",
        "            head_mask=None, inputs_embeds=None, labels=None, output_attentions=None,\n",
        "            output_hidden_states=None, return_dict=None):\n",
        "    ##########\n",
        "    output = self.bert(input_ids=input_ids, attention_mask=attention_mask, token_type_ids=token_type_ids)\n",
        "    pooled_output = output.pooler_output\n",
        "    output = self.dropout(pooled_output)\n",
        "    logits = self.classifier(output)\n",
        "\n",
        "    ##########\n",
        "    if labels is not None:\n",
        "        loss_fct = torch.nn.CrossEntropyLoss()\n",
        "        loss = loss_fct(logits, labels)\n",
        "        return loss, logits\n",
        "    else:\n",
        "        return logits\n"
      ]
    },
    {
      "cell_type": "markdown",
      "id": "fmr97mUu2Zmt",
      "metadata": {
        "id": "fmr97mUu2Zmt"
      },
      "source": [
        "這是已經寫好的evaluate()，train()會跟他很像\n",
        "\n",
        "(# 在評估模型的時候，不需要梯度下降)"
      ]
    },
    {
      "cell_type": "code",
      "execution_count": null,
      "id": "_QVJaIv5XyQ9",
      "metadata": {
        "id": "_QVJaIv5XyQ9"
      },
      "outputs": [],
      "source": [
        "# evaluate dataloader\n",
        "def evaluate(model, data_loader, device):\n",
        "  val_loss, val_acc, val_f1, val_rec, val_prec = 0.0, 0.0, 0.0, 0.0, 0.0\n",
        "  step_count = 0\n",
        "  loss_fct = torch.nn.CrossEntropyLoss()\n",
        "  model.eval()\n",
        "  with torch.no_grad():\n",
        "    for data in data_loader:\n",
        "      ids, masks, token_type_ids, labels = [t.to(device) for t in data]\n",
        "\n",
        "      logits = model(input_ids = ids,\n",
        "              token_type_ids = token_type_ids,\n",
        "              attention_mask = masks)\n",
        "      acc, f1, rec, prec = cal_metrics(get_pred(logits), labels, 'macro')\n",
        "      loss = loss_fct(logits, labels)\n",
        "\n",
        "      val_loss += loss.item()\n",
        "      val_acc += acc\n",
        "      val_f1 += f1\n",
        "      val_rec += rec\n",
        "      val_prec += prec\n",
        "      step_count+=1\n",
        "\n",
        "    val_loss = val_loss / step_count\n",
        "    val_acc = val_acc / step_count\n",
        "    val_f1 = val_f1 / step_count\n",
        "    val_rec = val_rec / step_count\n",
        "    val_prec = val_prec / step_count\n",
        "\n",
        "  return val_loss, val_acc, val_f1, val_rec, val_prec"
      ]
    },
    {
      "cell_type": "markdown",
      "id": "4QTsH978XyRG",
      "metadata": {
        "id": "4QTsH978XyRG"
      },
      "source": [
        "## 開始訓練"
      ]
    },
    {
      "cell_type": "markdown",
      "id": "sAaBnWzTXyQ_",
      "metadata": {
        "id": "sAaBnWzTXyQ_"
      },
      "source": [
        "### 定義你的 Hyperparameters\n",
        "\n",
        "* 如果電腦的記憶體不夠可以試著減少 batch_size\n",
        "* 因為我們採用現有的模型去fine-tune，所以一般不需要設太多 epochs\n",
        "* config 就是我們所使用的現有模型，可以自己找適合的做替換\n",
        "* 這份 work 是做二分類，所以 num_class 為 2\n",
        "* 如果你的模型 overfit 了，可以把 dropout 調高\n",
        "* 可以試著調高或調低 learning_rate，這會影響他的學習速度（跨步的大小）\n",
        "* 你應該先檢閱你的資料再來決定 max_len （但 BERT 最大只吃到 512）"
      ]
    },
    {
      "cell_type": "code",
      "execution_count": null,
      "id": "Jaui0JY50LR_",
      "metadata": {
        "id": "Jaui0JY50LR_"
      },
      "outputs": [],
      "source": [
        "from datetime import datetime\n",
        "#from transformers import BertTokenizer\n",
        "#tokenizer = BertTokenizer.from_pretrained('distilbert-base-uncased')\n",
        "parameters = {\n",
        "    \"num_class\": 2,\n",
        "    \"time\": str(datetime.now()).replace(\" \", \"_\"),\n",
        "    # Hyperparameters\n",
        "    \"model_name\": 'BERT',\n",
        "    \"config\": 'bert-base-uncased',\n",
        "    \"learning_rate\": 1e-4,\n",
        "    \"epochs\": 3,\n",
        "    \"max_len\": 512,\n",
        "    \"batch_size\": 16,\n",
        "    \"dropout\": 0.1,\n",
        "}"
      ]
    },
    {
      "cell_type": "markdown",
      "id": "IJpQ20GSZOoV",
      "metadata": {
        "id": "IJpQ20GSZOoV"
      },
      "source": [
        "### 載入資料\n",
        "\n",
        "讀入資料並傳入自訂的Dataset以自訂資料格式\n",
        "\n",
        "之後傳入DataLoader以利後續訓練進行（將資料批次化以免記憶體爆掉）\n",
        "\n",
        "(# 你可以決定要sample部分資料還是全部都丟進去)"
      ]
    },
    {
      "cell_type": "code",
      "execution_count": null,
      "id": "W0t0NVOAXyRG",
      "metadata": {
        "id": "W0t0NVOAXyRG"
      },
      "outputs": [],
      "source": [
        "import transformers\n",
        "import pandas as pd\n",
        "\n",
        "# load training data\n",
        "train_df = pd.read_csv('./train.tsv', sep = '\\t').sample(4000).reset_index(drop=True)\n",
        "train_dataset = CustomDataset('train', train_df, 'text', parameters)\n",
        "train_loader = DataLoader(train_dataset, batch_size=parameters['batch_size'], shuffle=True)\n",
        "\n",
        "# load validation data\n",
        "val_df = pd.read_csv('./val.tsv', sep = '\\t').sample(500).reset_index(drop=True)\n",
        "val_dataset = CustomDataset('val', val_df, 'text', parameters)\n",
        "val_loader = DataLoader(val_dataset, batch_size=parameters['batch_size'], shuffle=True)"
      ]
    },
    {
      "cell_type": "markdown",
      "id": "nMZ8wEyjab68",
      "metadata": {
        "id": "nMZ8wEyjab68"
      },
      "source": [
        "### 初始化模型\n",
        "*   載入模型（這邊會使用已經訓練過的模型，Fine-tune我們的資料集）\n",
        "*   定義Optimization\n",
        "  *   通常用Adam就可以了，你也可以換SGD之類的試看看\n",
        "  *   可以自己看需不需要加scheduler（可以自己寫一個function，也可以直接套用現有的function）\n",
        "  \n",
        "  ［請記得pytorch中是以step去計算，想要用epoch去訂定需自行換算］\n",
        "\n",
        "\n"
      ]
    },
    {
      "cell_type": "code",
      "execution_count": null,
      "id": "5D7NzvuGaZfY",
      "metadata": {
        "id": "5D7NzvuGaZfY"
      },
      "outputs": [],
      "source": [
        "transformers.logging.set_verbosity_error() # close the warning message\n",
        "\n",
        "device = torch.device(\"cuda\" if torch.cuda.is_available() else \"cpu\")\n",
        "model = BertClassifier.from_pretrained(parameters['config'], parameters).to(device)\n",
        "loss_fct = torch.nn.CrossEntropyLoss() # we use cross entrophy loss\n",
        "\n",
        "## You can custom your optimizer (e.g. SGD .etc) ##\n",
        "# we use Adam here\n",
        "optimizer = torch.optim.Adam(model.parameters(), lr=parameters['learning_rate'], betas=(0.9, 0.999), eps=1e-9)\n",
        "\n",
        "## You also can add your custom scheduler ##\n",
        "# num_train_steps = len(train_loader) * parameters['epochs]\n",
        "# scheduler = get_cosine_schedule_with_warmup(optimizer, num_warmup_steps=int(0.1 * num_train_steps), num_training_steps=num_train_steps, num_cycles=1)"
      ]
    },
    {
      "cell_type": "markdown",
      "id": "LmyDpsHc3rRN",
      "metadata": {
        "id": "LmyDpsHc3rRN"
      },
      "source": [
        "* 因為是做分類任務，所以這裡用CrossEntrophyLoss\n",
        "* 由於在pytorch中，CrossEntrophyLoss吃的input是未經softmax的值，所以在模型中不必加入softmax\n",
        "* 但若在後期想取得各類別實際機率就要經過softmax轉換\n",
        "* logits的數值不等於機率 ！！但一般而言，logits中較大者會與經過softmax轉換後的結果一致"
      ]
    },
    {
      "cell_type": "markdown",
      "id": "wtThctN23VIS",
      "metadata": {
        "id": "wtThctN23VIS"
      },
      "source": [
        "* TODO6: 完成訓練，可參照evaluate()並稍作調整以完成訓練"
      ]
    },
    {
      "cell_type": "code",
      "execution_count": null,
      "id": "BUX_aw7hXyRH",
      "metadata": {
        "colab": {
          "base_uri": "https://localhost:8080/"
        },
        "id": "BUX_aw7hXyRH",
        "outputId": "d253edba-4a5e-4a0c-d0e0-d900e24b6895"
      },
      "outputs": [
        {
          "name": "stdout",
          "output_type": "stream",
          "text": [
            "[epoch 1] cost time: 374.1354 s\n",
            "         loss     acc     f1      rec    prec\n",
            "train | 0.4332, 0.7820, 0.7503, 0.7784, 0.7825\n",
            "val  | 0.2806, 0.8848, 0.8766, 0.8807, 0.8828\n",
            "\n",
            "[epoch 2] cost time: 372.4186 s\n",
            "         loss     acc     f1      rec    prec\n",
            "train | 0.1721, 0.9360, 0.9317, 0.9391, 0.9376\n",
            "val  | 0.2805, 0.8789, 0.8724, 0.8811, 0.8782\n",
            "\n",
            "[epoch 3] cost time: 372.3734 s\n",
            "         loss     acc     f1      rec    prec\n",
            "train | 0.0876, 0.9702, 0.9689, 0.9718, 0.9715\n",
            "val  | 0.3345, 0.8750, 0.8673, 0.8881, 0.8748\n",
            "\n"
          ]
        }
      ],
      "source": [
        "# Start training\n",
        "import time\n",
        "metrics = ['loss', 'acc', 'f1', 'rec', 'prec']\n",
        "mode = ['train_', 'val_']\n",
        "record = {s+m :[] for s in mode for m in metrics}\n",
        "\n",
        "for epoch in range(parameters[\"epochs\"]):\n",
        "\n",
        "    st_time = time.time()\n",
        "    train_loss, train_acc, train_f1, train_rec, train_prec = 0.0, 0.0, 0.0, 0.0, 0.0\n",
        "    step_count = 0\n",
        "\n",
        "    ##########\n",
        "    # todo #\n",
        "    for batch in train_loader:\n",
        "        input_ids, attention_mask, token_type_ids, labels = batch\n",
        "        input_ids = input_ids.to(device)\n",
        "        attention_mask = attention_mask.to(device)\n",
        "        token_type_ids = token_type_ids.to(device)\n",
        "        labels = labels.to(device)\n",
        "        optimizer.zero_grad()\n",
        "        outputs = model(input_ids, attention_mask=attention_mask, token_type_ids=token_type_ids)\n",
        "        loss = torch.nn.CrossEntropyLoss()(outputs, labels)\n",
        "        train_loss += loss.item()\n",
        "        loss.backward()\n",
        "        optimizer.step()\n",
        "        preds = outputs.argmax(dim=-1)\n",
        "\n",
        "        acc, f1, rec, prec = cal_metrics(preds, labels)\n",
        "        train_acc += acc\n",
        "        train_f1 += f1\n",
        "        train_rec += rec\n",
        "        train_prec += prec\n",
        "\n",
        "        step_count += 1\n",
        "    ##########\n",
        "\n",
        "\n",
        "    # evaluate the model performace on val data after finishing an epoch training\n",
        "    val_loss, val_acc, val_f1, val_rec, val_prec = evaluate(model, val_loader, device)\n",
        "\n",
        "    train_loss = train_loss / step_count\n",
        "    train_acc = train_acc / step_count\n",
        "    train_f1 = train_f1 / step_count\n",
        "    train_rec = train_rec / step_count\n",
        "    train_prec = train_prec / step_count\n",
        "\n",
        "    print('[epoch %d] cost time: %.4f s'%(epoch + 1, time.time() - st_time))\n",
        "    print('         loss     acc     f1      rec    prec')\n",
        "    print('train | %.4f, %.4f, %.4f, %.4f, %.4f'%(train_loss, train_acc, train_f1, train_rec, train_prec))\n",
        "    print('val  | %.4f, %.4f, %.4f, %.4f, %.4f\\n'%(val_loss, val_acc, val_f1, val_rec, val_prec))\n",
        "\n",
        "    # record training metrics of each training epoch\n",
        "    record['train_loss'].append(train_loss)\n",
        "    record['train_acc'].append(train_acc)\n",
        "    record['train_f1'].append(train_f1)\n",
        "    record['train_rec'].append(train_rec)\n",
        "    record['train_prec'].append(train_prec)\n",
        "\n",
        "    record['val_loss'].append(val_loss)\n",
        "    record['val_acc'].append(val_acc)\n",
        "    record['val_f1'].append(val_f1)\n",
        "    record['val_rec'].append(val_rec)\n",
        "    record['val_prec'].append(val_prec)"
      ]
    },
    {
      "cell_type": "code",
      "execution_count": null,
      "id": "YHTX3ycLXyRH",
      "metadata": {
        "colab": {
          "base_uri": "https://localhost:8080/"
        },
        "id": "YHTX3ycLXyRH",
        "outputId": "6926246f-7d7a-4ed3-c209-f64f06603ff0"
      },
      "outputs": [
        {
          "name": "stdout",
          "output_type": "stream",
          "text": [
            "Model saved to ==> ./bert.pt\n"
          ]
        }
      ],
      "source": [
        "# save model\n",
        "save_checkpoint('./bert.pt' , model)"
      ]
    },
    {
      "cell_type": "markdown",
      "id": "RHzv2n2E5Zex",
      "metadata": {
        "id": "RHzv2n2E5Zex"
      },
      "source": [
        "### 畫圖"
      ]
    },
    {
      "cell_type": "code",
      "execution_count": null,
      "id": "HtQra69-XyRI",
      "metadata": {
        "id": "HtQra69-XyRI"
      },
      "outputs": [],
      "source": [
        "# draw learning curve\n",
        "EPOCH = 3\n",
        "import matplotlib.pyplot as plt\n",
        "def draw_pics(record, name, img_save=False, show=False):\n",
        "    x_ticks = range(1, EPOCH+1)\n",
        "\n",
        "    plt.figure(figsize=(6, 3))\n",
        "\n",
        "    plt.plot(x_ticks, record['train_'+name], '-o', color='lightskyblue',\n",
        "             markeredgecolor=\"teal\", markersize=3, markeredgewidth=1, label = 'Train')\n",
        "    plt.plot(x_ticks, record['val_'+name], '-o', color='pink',\n",
        "             markeredgecolor=\"salmon\", markersize=3, markeredgewidth=1, label = 'Val')\n",
        "    plt.grid(color='lightgray', linestyle='--', linewidth=1)\n",
        "\n",
        "    plt.title('Model', fontsize=14)\n",
        "    plt.ylabel(name, fontsize=12)\n",
        "    plt.xlabel('Epoch', fontsize=12)\n",
        "    plt.xticks(x_ticks, fontsize=12)\n",
        "    plt.yticks(fontsize=12)\n",
        "    plt.legend(loc='lower right' if not name.lower().endswith('loss') else 'upper right')\n",
        "\n",
        "    if img_save:\n",
        "        plt.savefig(name+'.png', transparent=False, dpi=300)\n",
        "    if show:\n",
        "        plt.show()\n",
        "\n",
        "    plt.close()"
      ]
    },
    {
      "cell_type": "code",
      "execution_count": null,
      "id": "RKEdRFDzXyRI",
      "metadata": {
        "colab": {
          "base_uri": "https://localhost:8080/",
          "height": 342
        },
        "id": "RKEdRFDzXyRI",
        "outputId": "a7f0a1f2-37aa-49c8-a8a1-08e257611a15"
      },
      "outputs": [
        {
          "data": {
            "image/png": "[encoded data removed]",
            "text/plain": [
              "<Figure size 600x300 with 1 Axes>"
            ]
          },
          "metadata": {},
          "output_type": "display_data"
        }
      ],
      "source": [
        "draw_pics(record, 'loss', img_save=False, show=True)"
      ]
    },
    {
      "cell_type": "code",
      "execution_count": null,
      "id": "-gjV5dGCXyRI",
      "metadata": {
        "colab": {
          "base_uri": "https://localhost:8080/",
          "height": 342
        },
        "id": "-gjV5dGCXyRI",
        "outputId": "53249dd5-6584-4e7b-dec8-9ab3a75255bf"
      },
      "outputs": [
        {
          "data": {
            "image/png": "[encoded data removed]",
            "text/plain": [
              "<Figure size 600x300 with 1 Axes>"
            ]
          },
          "metadata": {},
          "output_type": "display_data"
        }
      ],
      "source": [
        "draw_pics(record, 'acc', img_save=False, show=True)"
      ]
    },
    {
      "cell_type": "code",
      "execution_count": null,
      "id": "6Ej8ffuKDRwZ",
      "metadata": {
        "colab": {
          "base_uri": "https://localhost:8080/",
          "height": 342
        },
        "id": "6Ej8ffuKDRwZ",
        "outputId": "2e492ae0-6a8d-4152-b8c2-8edff24fe71c"
      },
      "outputs": [
        {
          "data": {
            "image/png": "[encoded data removed]",
            "text/plain": [
              "<Figure size 600x300 with 1 Axes>"
            ]
          },
          "metadata": {},
          "output_type": "display_data"
        }
      ],
      "source": [
        "draw_pics(record, 'f1', img_save=False, show=True)"
      ]
    },
    {
      "cell_type": "code",
      "execution_count": null,
      "id": "F2xU_13LDlWa",
      "metadata": {
        "colab": {
          "base_uri": "https://localhost:8080/",
          "height": 342
        },
        "id": "F2xU_13LDlWa",
        "outputId": "13cc5636-6558-4fc1-f06f-98476df9d2d9"
      },
      "outputs": [
        {
          "data": {
            "image/png": "[encoded data removed]",
            "text/plain": [
              "<Figure size 600x300 with 1 Axes>"
            ]
          },
          "metadata": {},
          "output_type": "display_data"
        }
      ],
      "source": [
        "draw_pics(record, 'rec', img_save=False, show=True)"
      ]
    },
    {
      "cell_type": "code",
      "execution_count": null,
      "id": "lNDEyPWJDgIS",
      "metadata": {
        "colab": {
          "base_uri": "https://localhost:8080/",
          "height": 342
        },
        "id": "lNDEyPWJDgIS",
        "outputId": "196be8cc-5c15-4484-ae0e-da8ace3616a0"
      },
      "outputs": [
        {
          "data": {
            "image/png": "[encoded data removed]",
            "text/plain": [
              "<Figure size 600x300 with 1 Axes>"
            ]
          },
          "metadata": {},
          "output_type": "display_data"
        }
      ],
      "source": [
        "draw_pics(record, 'prec', img_save=False, show=True)"
      ]
    },
    {
      "cell_type": "markdown",
      "id": "A6GLT9fOXyRJ",
      "metadata": {
        "id": "A6GLT9fOXyRJ"
      },
      "source": [
        "## 預測結果"
      ]
    },
    {
      "cell_type": "markdown",
      "id": "NXV9nz2RXyRJ",
      "metadata": {
        "id": "NXV9nz2RXyRJ"
      },
      "source": [
        "預測單筆（跟評估的程式大同小異）\n",
        "\n",
        "\n"
      ]
    },
    {
      "cell_type": "code",
      "execution_count": null,
      "id": "BEjRQrsnXyRJ",
      "metadata": {
        "id": "BEjRQrsnXyRJ"
      },
      "outputs": [],
      "source": [
        "def Softmax(x):\n",
        "  return torch.exp(x) / torch.exp(x).sum()\n",
        "# label to class\n",
        "def label2class(label):\n",
        "  l2c = {0:'negative', 1:'positive'}\n",
        "  return l2c[label]"
      ]
    },
    {
      "cell_type": "markdown",
      "id": "8xYoz3EW6m7x",
      "metadata": {
        "id": "8xYoz3EW6m7x"
      },
      "source": [
        "* TODO7: 完成predict_one()"
      ]
    },
    {
      "cell_type": "code",
      "execution_count": null,
      "id": "a4D4Z9-8XyRK",
      "metadata": {
        "id": "a4D4Z9-8XyRK"
      },
      "outputs": [],
      "source": [
        "import torch\n",
        "from torch.nn.functional import softmax\n",
        "\n",
        "\n",
        "def predict_one(query, model):\n",
        "    tokenizer = AutoTokenizer.from_pretrained(parameters['config'])\n",
        "    inputs = tokenizer(query, return_tensors='pt', padding=True, truncation=True, max_length=512)\n",
        "    inputs = {key: value.to(model.device) for key, value in inputs.items()}\n",
        "    model.eval()\n",
        "    with torch.no_grad():\n",
        "        outputs = model(**inputs)\n",
        "        logits = outputs\n",
        "        probs = softmax(logits, dim=1)\n",
        "        pred = torch.argmax(probs, dim=1).item()\n",
        "\n",
        "    return probs, pred\n"
      ]
    },
    {
      "cell_type": "code",
      "execution_count": null,
      "id": "egfecB7sXyRK",
      "metadata": {
        "colab": {
          "base_uri": "https://localhost:8080/"
        },
        "id": "egfecB7sXyRK",
        "outputId": "03644a74-8ad8-4ce1-a8bf-1332dd6b2b86"
      },
      "outputs": [
        {
          "name": "stdout",
          "output_type": "stream",
          "text": [
            "Model loaded from <== ./bert.pt\n"
          ]
        }
      ],
      "source": [
        "# you can load model from existing result\n",
        "device = torch.device(\"cuda\" if torch.cuda.is_available() else \"cpu\")\n",
        "init_model = BertClassifier.from_pretrained(parameters['config'], parameters) # build an initial model\n",
        "model = load_checkpoint('./bert.pt', init_model, device).to(device) # and load the weight of model from specify file"
      ]
    },
    {
      "cell_type": "code",
      "execution_count": null,
      "id": "0BowzmKvXyRK",
      "metadata": {
        "colab": {
          "base_uri": "https://localhost:8080/"
        },
        "id": "0BowzmKvXyRK",
        "outputId": "9265e9e5-e797-487c-9e30-940d0a167169"
      },
      "outputs": [
        {
          "name": "stdout",
          "output_type": "stream",
          "text": [
            "positive\n",
            "CPU times: user 74.6 ms, sys: 2 ms, total: 76.6 ms\n",
            "Wall time: 239 ms\n"
          ]
        }
      ],
      "source": [
        "%%time\n",
        "probs, pred = predict_one(\"I adore you\", model)\n",
        "print(label2class(pred))"
      ]
    },
    {
      "cell_type": "markdown",
      "id": "jW7WgMK-5UXJ",
      "metadata": {
        "id": "jW7WgMK-5UXJ"
      },
      "source": [
        ":你也可以像evaluate function一樣，把它寫成dataloader的形式"
      ]
    },
    {
      "cell_type": "code",
      "execution_count": null,
      "id": "c0s5Da92XyRN",
      "metadata": {
        "id": "c0s5Da92XyRN"
      },
      "outputs": [],
      "source": [
        "# predict dataloader\n",
        "def predict(data_loader, model):\n",
        "\n",
        "  tokenizer = AutoTokenizer.from_pretrained(parameters['config'])\n",
        "  device = torch.device(\"cuda\" if torch.cuda.is_available() else \"cpu\")\n",
        "\n",
        "  total_probs, total_pred = [], []\n",
        "  model.eval()\n",
        "  with torch.no_grad():\n",
        "    for data in data_loader:\n",
        "      input_ids, attention_mask, \\\n",
        "      token_type_ids = [t.to(device) for t in data]\n",
        "      logits = model(input_ids, attention_mask, token_type_ids)\n",
        "      probs = Softmax(logits)\n",
        "      label_index = torch.argmax(probs[0], dim=0)\n",
        "      pred = label_index.item()\n",
        "\n",
        "      total_probs.append(probs)\n",
        "      total_pred.append(pred)\n",
        "\n",
        "  return total_probs, total_pred"
      ]
    },
    {
      "cell_type": "code",
      "execution_count": null,
      "id": "lPkXV9J5XyRN",
      "metadata": {
        "id": "lPkXV9J5XyRN"
      },
      "outputs": [],
      "source": [
        "# load testing data\n",
        "test_df = pd.read_csv('./test.tsv', sep = '\\t').sample(500).reset_index(drop=True)\n",
        "test_dataset = CustomDataset('test', test_df, 'text', parameters)\n",
        "test_loader = DataLoader(test_dataset, batch_size=1, shuffle=False)\n",
        "\n",
        "total_probs, total_pred = predict(test_loader, model)\n",
        "res = test_df.copy()\n",
        "# add predict class of origin file\n",
        "res['pred'] = total_pred\n",
        "\n",
        "# save result\n",
        "res.to_csv('./result.tsv', sep='\\t', index=False)"
      ]
    },
    {
      "cell_type": "code",
      "execution_count": null,
      "id": "e8R4lQHVCBw7",
      "metadata": {
        "colab": {
          "base_uri": "https://localhost:8080/",
          "height": 204
        },
        "id": "e8R4lQHVCBw7",
        "outputId": "ad4d5605-b3e1-40a8-bb76-fe929e3f25ac"
      },
      "outputs": [
        {
          "data": {
            "application/vnd.google.colaboratory.intrinsic+json": {
              "summary": "{\n  \"name\": \"res\",\n  \"rows\": 500,\n  \"fields\": [\n    {\n      \"column\": \"text\",\n      \"properties\": {\n        \"dtype\": \"string\",\n        \"num_unique_values\": 500,\n        \"samples\": [\n          \"Of course I'm a bit prejudiced but for the time it was the most accurate portrayal of Marines ever shown on the big screen.<br /><br />I was at Camp Pendleton undergoing infantry training when Webb brought his crew down to film some outdoor scenes and our company was asked to participate. It took about two or three days as best I can recall.<br /><br />Webb and Don Dubbins were serious and businesslike.<br /><br />During the filming of our short scene--which seemed to take forever to an 18 year old--Webb was very conscientious about getting things (Marine things) right and he did a good job with one exception--that scene where a recruit was wearing sunglasses. Never happen for a host of reasons.<br /><br />I have a video of the movie and will bore my grandkids anytime I can make them sit still for a few seconds as I show them their Papaw when he was a young stud and part of the world's greatest fighting force (no brag, just fact).<br /><br />What amazed me then was how well the real Marines carried out their acting roles. That was before I realized that DIs have to have some acting genes to get their job done. <br /><br />The only film I've seen since that is the equal of the DI is the first half of Full Metal Jacket and that part is superior only because of the foul language. When the DI was made, cursing wasn't allowed on screen. <br /><br />Despite the lack of profanity, it's still a great movie to rent.<br /><br />Ooooo-rahhhhhh!!!!!<br /><br />Semper Fi, Do or Die\",\n          \"simply i just watched this movie just because of Sarah & am also giving these 4 stars just because of her,on the other side This movie was easily one of the worst movies I have ever seen. Theacting was horrible. The script was uninspired. This was a movie that kept contradicting itself. The film was sloppy and unoriginal. its not like I was expecting a good film. Just something to give me a jump or two. This did not even do that.<br /><br />he worst thing is that, the more I think about the overall plot, the less sense it actually makes and the more holes we keep finding. A real shame really, as I'm fairly sure that there was a good idea lurking in there somewhere...<br /><br />I'm perhaps being a bit harsh giving the film a 4/10 but given the actors involved and again SARA obvious writing talent, this film really should have delivered far more.<br /><br />This movie is just crap, I cant put it differently. Since the very beginning one knows is going to be crap.<br /><br />The story, dialogue, acting, special effects, make-up, pretty much EVERYTHING sucks. I like vampire movies and I know they will never be Oscar winning movies but this one is not even worth seeing, I can't believe how somebody produced this thing.<br /><br />It's not even about vampires, it's more about a dream/reality experience. The development of the movie is incoherent, the motivation of the characters is... Doesn't exist, everything seems like a big joke. Maybe that's what they tried to do, but I sincerely doubt it. I wish I knew what they tried to pull but it just backfired, it's definitely one of the worst movies I've ever seen in my life (and I've seen many bad movies, but nothing compared to this) Please, make yourselves a favor and do NOT watch this.<br /><br />P.S. It's also full of clich\\u00e9s! P.S. 2 Bad Script, Bad directing, Bad cinematography. P.S. 3 I bothered commenting on this as a favor to everyone.\",\n          \"I have to say that this TV movie was the work that really showed how talented Melissa Joan Hart is. We are so used to, now, seeing her in a sitcom and I really hope that a TV station will show this TV movie again soon as it will show the Sabrina fans that MJH shines in a drama. Seen as we have watched her on Sabrina now for now 5 years and so to give the viewers a taste of her much unused talent would be a plus. Melissa plays her role so well in this wanting her parents \\\"done away\\\" with so she can be with the guy she loves. One thing that all Sabrina viewers will notice, Melissa works with David Lascher in this, well before he took the role of Josh on Sabrina. So it would be kind of neat to see this currently whenever it gets aired again. Hopefully MJH gets some good roles in movies or even in more TV Movies, sort of like Kellie Martin who has always shined in TV Movies. Lots of unused talent waiting to bust out when it comes to Melissa Joan Hart, you shine always Melissa!!!\"\n        ],\n        \"semantic_type\": \"\",\n        \"description\": \"\"\n      }\n    },\n    {\n      \"column\": \"label\",\n      \"properties\": {\n        \"dtype\": \"number\",\n        \"std\": 0,\n        \"min\": 0,\n        \"max\": 1,\n        \"num_unique_values\": 2,\n        \"samples\": [\n          1,\n          0\n        ],\n        \"semantic_type\": \"\",\n        \"description\": \"\"\n      }\n    },\n    {\n      \"column\": \"pred\",\n      \"properties\": {\n        \"dtype\": \"number\",\n        \"std\": 0,\n        \"min\": 0,\n        \"max\": 1,\n        \"num_unique_values\": 2,\n        \"samples\": [\n          1,\n          0\n        ],\n        \"semantic_type\": \"\",\n        \"description\": \"\"\n      }\n    }\n  ]\n}",
              "type": "dataframe",
              "variable_name": "res"
            },
            "text/html": [
              "\n",
              "  <div id=\"df-f4df5a2f-a251-4e54-a1b8-15d14eedd8ce\" class=\"colab-df-container\">\n",
              "    <div>\n",
              "<style scoped>\n",
              "    .dataframe tbody tr th:only-of-type {\n",
              "        vertical-align: middle;\n",
              "    }\n",
              "\n",
              "    .dataframe tbody tr th {\n",
              "        vertical-align: top;\n",
              "    }\n",
              "\n",
              "    .dataframe thead th {\n",
              "        text-align: right;\n",
              "    }\n",
              "</style>\n",
              "<table border=\"1\" class=\"dataframe\">\n",
              "  <thead>\n",
              "    <tr style=\"text-align: right;\">\n",
              "      <th></th>\n",
              "      <th>text</th>\n",
              "      <th>label</th>\n",
              "      <th>pred</th>\n",
              "    </tr>\n",
              "  </thead>\n",
              "  <tbody>\n",
              "    <tr>\n",
              "      <th>0</th>\n",
              "      <td>Yes. I'll admit it. I believed all the hype su...</td>\n",
              "      <td>0</td>\n",
              "      <td>0</td>\n",
              "    </tr>\n",
              "    <tr>\n",
              "      <th>1</th>\n",
              "      <td>LORD PROTECTOR is kiddie fare, but for whose k...</td>\n",
              "      <td>0</td>\n",
              "      <td>0</td>\n",
              "    </tr>\n",
              "    <tr>\n",
              "      <th>2</th>\n",
              "      <td>Sometimes you ignore that little voice in your...</td>\n",
              "      <td>0</td>\n",
              "      <td>0</td>\n",
              "    </tr>\n",
              "    <tr>\n",
              "      <th>3</th>\n",
              "      <td>We brought this film as a joke for a friend, a...</td>\n",
              "      <td>0</td>\n",
              "      <td>0</td>\n",
              "    </tr>\n",
              "    <tr>\n",
              "      <th>4</th>\n",
              "      <td>Obviously the previous reviewers here are not ...</td>\n",
              "      <td>1</td>\n",
              "      <td>1</td>\n",
              "    </tr>\n",
              "  </tbody>\n",
              "</table>\n",
              "</div>\n",
              "    <div class=\"colab-df-buttons\">\n",
              "\n",
              "  <div class=\"colab-df-container\">\n",
              "    <button class=\"colab-df-convert\" onclick=\"convertToInteractive('df-f4df5a2f-a251-4e54-a1b8-15d14eedd8ce')\"\n",
              "            title=\"Convert this dataframe to an interactive table.\"\n",
              "            style=\"display:none;\">\n",
              "\n",
              "  <svg xmlns=\"http://www.w3.org/2000/svg\" height=\"24px\" viewBox=\"0 -960 960 960\">\n",
              "    <path d=\"M120-120v-720h720v720H120Zm60-500h600v-160H180v160Zm220 220h160v-160H400v160Zm0 220h160v-160H400v160ZM180-400h160v-160H180v160Zm440 0h160v-160H620v160ZM180-180h160v-160H180v160Zm440 0h160v-160H620v160Z\"/>\n",
              "  </svg>\n",
              "    </button>\n",
              "\n",
              "  <style>\n",
              "    .colab-df-container {\n",
              "      display:flex;\n",
              "      gap: 12px;\n",
              "    }\n",
              "\n",
              "    .colab-df-convert {\n",
              "      background-color: #E8F0FE;\n",
              "      border: none;\n",
              "      border-radius: 50%;\n",
              "      cursor: pointer;\n",
              "      display: none;\n",
              "      fill: #1967D2;\n",
              "      height: 32px;\n",
              "      padding: 0 0 0 0;\n",
              "      width: 32px;\n",
              "    }\n",
              "\n",
              "    .colab-df-convert:hover {\n",
              "      background-color: #E2EBFA;\n",
              "      box-shadow: 0px 1px 2px rgba(60, 64, 67, 0.3), 0px 1px 3px 1px rgba(60, 64, 67, 0.15);\n",
              "      fill: #174EA6;\n",
              "    }\n",
              "\n",
              "    .colab-df-buttons div {\n",
              "      margin-bottom: 4px;\n",
              "    }\n",
              "\n",
              "    [theme=dark] .colab-df-convert {\n",
              "      background-color: #3B4455;\n",
              "      fill: #D2E3FC;\n",
              "    }\n",
              "\n",
              "    [theme=dark] .colab-df-convert:hover {\n",
              "      background-color: #434B5C;\n",
              "      box-shadow: 0px 1px 3px 1px rgba(0, 0, 0, 0.15);\n",
              "      filter: drop-shadow(0px 1px 2px rgba(0, 0, 0, 0.3));\n",
              "      fill: #FFFFFF;\n",
              "    }\n",
              "  </style>\n",
              "\n",
              "    <script>\n",
              "      const buttonEl =\n",
              "        document.querySelector('#df-f4df5a2f-a251-4e54-a1b8-15d14eedd8ce button.colab-df-convert');\n",
              "      buttonEl.style.display =\n",
              "        google.colab.kernel.accessAllowed ? 'block' : 'none';\n",
              "\n",
              "      async function convertToInteractive(key) {\n",
              "        const element = document.querySelector('#df-f4df5a2f-a251-4e54-a1b8-15d14eedd8ce');\n",
              "        const dataTable =\n",
              "          await google.colab.kernel.invokeFunction('convertToInteractive',\n",
              "                                                    [key], {});\n",
              "        if (!dataTable) return;\n",
              "\n",
              "        const docLinkHtml = 'Like what you see? Visit the ' +\n",
              "          '<a target=\"_blank\" href=https://colab.research.google.com/notebooks/data_table.ipynb>data table notebook</a>'\n",
              "          + ' to learn more about interactive tables.';\n",
              "        element.innerHTML = '';\n",
              "        dataTable['output_type'] = 'display_data';\n",
              "        await google.colab.output.renderOutput(dataTable, element);\n",
              "        const docLink = document.createElement('div');\n",
              "        docLink.innerHTML = docLinkHtml;\n",
              "        element.appendChild(docLink);\n",
              "      }\n",
              "    </script>\n",
              "  </div>\n",
              "\n",
              "\n",
              "<div id=\"df-5eb41c14-40de-4d14-a6f7-6d98b45be312\">\n",
              "  <button class=\"colab-df-quickchart\" onclick=\"quickchart('df-5eb41c14-40de-4d14-a6f7-6d98b45be312')\"\n",
              "            title=\"Suggest charts\"\n",
              "            style=\"display:none;\">\n",
              "\n",
              "<svg xmlns=\"http://www.w3.org/2000/svg\" height=\"24px\"viewBox=\"0 0 24 24\"\n",
              "     width=\"24px\">\n",
              "    <g>\n",
              "        <path d=\"M19 3H5c-1.1 0-2 .9-2 2v14c0 1.1.9 2 2 2h14c1.1 0 2-.9 2-2V5c0-1.1-.9-2-2-2zM9 17H7v-7h2v7zm4 0h-2V7h2v10zm4 0h-2v-4h2v4z\"/>\n",
              "    </g>\n",
              "</svg>\n",
              "  </button>\n",
              "\n",
              "<style>\n",
              "  .colab-df-quickchart {\n",
              "      --bg-color: #E8F0FE;\n",
              "      --fill-color: #1967D2;\n",
              "      --hover-bg-color: #E2EBFA;\n",
              "      --hover-fill-color: #174EA6;\n",
              "      --disabled-fill-color: #AAA;\n",
              "      --disabled-bg-color: #DDD;\n",
              "  }\n",
              "\n",
              "  [theme=dark] .colab-df-quickchart {\n",
              "      --bg-color: #3B4455;\n",
              "      --fill-color: #D2E3FC;\n",
              "      --hover-bg-color: #434B5C;\n",
              "      --hover-fill-color: #FFFFFF;\n",
              "      --disabled-bg-color: #3B4455;\n",
              "      --disabled-fill-color: #666;\n",
              "  }\n",
              "\n",
              "  .colab-df-quickchart {\n",
              "    background-color: var(--bg-color);\n",
              "    border: none;\n",
              "    border-radius: 50%;\n",
              "    cursor: pointer;\n",
              "    display: none;\n",
              "    fill: var(--fill-color);\n",
              "    height: 32px;\n",
              "    padding: 0;\n",
              "    width: 32px;\n",
              "  }\n",
              "\n",
              "  .colab-df-quickchart:hover {\n",
              "    background-color: var(--hover-bg-color);\n",
              "    box-shadow: 0 1px 2px rgba(60, 64, 67, 0.3), 0 1px 3px 1px rgba(60, 64, 67, 0.15);\n",
              "    fill: var(--button-hover-fill-color);\n",
              "  }\n",
              "\n",
              "  .colab-df-quickchart-complete:disabled,\n",
              "  .colab-df-quickchart-complete:disabled:hover {\n",
              "    background-color: var(--disabled-bg-color);\n",
              "    fill: var(--disabled-fill-color);\n",
              "    box-shadow: none;\n",
              "  }\n",
              "\n",
              "  .colab-df-spinner {\n",
              "    border: 2px solid var(--fill-color);\n",
              "    border-color: transparent;\n",
              "    border-bottom-color: var(--fill-color);\n",
              "    animation:\n",
              "      spin 1s steps(1) infinite;\n",
              "  }\n",
              "\n",
              "  @keyframes spin {\n",
              "    0% {\n",
              "      border-color: transparent;\n",
              "      border-bottom-color: var(--fill-color);\n",
              "      border-left-color: var(--fill-color);\n",
              "    }\n",
              "    20% {\n",
              "      border-color: transparent;\n",
              "      border-left-color: var(--fill-color);\n",
              "      border-top-color: var(--fill-color);\n",
              "    }\n",
              "    30% {\n",
              "      border-color: transparent;\n",
              "      border-left-color: var(--fill-color);\n",
              "      border-top-color: var(--fill-color);\n",
              "      border-right-color: var(--fill-color);\n",
              "    }\n",
              "    40% {\n",
              "      border-color: transparent;\n",
              "      border-right-color: var(--fill-color);\n",
              "      border-top-color: var(--fill-color);\n",
              "    }\n",
              "    60% {\n",
              "      border-color: transparent;\n",
              "      border-right-color: var(--fill-color);\n",
              "    }\n",
              "    80% {\n",
              "      border-color: transparent;\n",
              "      border-right-color: var(--fill-color);\n",
              "      border-bottom-color: var(--fill-color);\n",
              "    }\n",
              "    90% {\n",
              "      border-color: transparent;\n",
              "      border-bottom-color: var(--fill-color);\n",
              "    }\n",
              "  }\n",
              "</style>\n",
              "\n",
              "  <script>\n",
              "    async function quickchart(key) {\n",
              "      const quickchartButtonEl =\n",
              "        document.querySelector('#' + key + ' button');\n",
              "      quickchartButtonEl.disabled = true;  // To prevent multiple clicks.\n",
              "      quickchartButtonEl.classList.add('colab-df-spinner');\n",
              "      try {\n",
              "        const charts = await google.colab.kernel.invokeFunction(\n",
              "            'suggestCharts', [key], {});\n",
              "      } catch (error) {\n",
              "        console.error('Error during call to suggestCharts:', error);\n",
              "      }\n",
              "      quickchartButtonEl.classList.remove('colab-df-spinner');\n",
              "      quickchartButtonEl.classList.add('colab-df-quickchart-complete');\n",
              "    }\n",
              "    (() => {\n",
              "      let quickchartButtonEl =\n",
              "        document.querySelector('#df-5eb41c14-40de-4d14-a6f7-6d98b45be312 button');\n",
              "      quickchartButtonEl.style.display =\n",
              "        google.colab.kernel.accessAllowed ? 'block' : 'none';\n",
              "    })();\n",
              "  </script>\n",
              "</div>\n",
              "\n",
              "    </div>\n",
              "  </div>\n"
            ],
            "text/plain": [
              "                                                text  label  pred\n",
              "0  Yes. I'll admit it. I believed all the hype su...      0     0\n",
              "1  LORD PROTECTOR is kiddie fare, but for whose k...      0     0\n",
              "2  Sometimes you ignore that little voice in your...      0     0\n",
              "3  We brought this film as a joke for a friend, a...      0     0\n",
              "4  Obviously the previous reviewers here are not ...      1     1"
            ]
          },
          "execution_count": 107,
          "metadata": {},
          "output_type": "execute_result"
        }
      ],
      "source": [
        "res.head(5)"
      ]
    },
    {
      "cell_type": "code",
      "execution_count": null,
      "id": "FDwvwbIokiq-",
      "metadata": {
        "colab": {
          "base_uri": "https://localhost:8080/"
        },
        "id": "FDwvwbIokiq-",
        "outputId": "348b2e6f-0ce9-4a50-beb5-6d038cc20c05"
      },
      "outputs": [
        {
          "name": "stdout",
          "output_type": "stream",
          "text": [
            "test accuracy = 0.8880\n"
          ]
        }
      ],
      "source": [
        "correct = 0\n",
        "for idx, pred in enumerate(res['pred']):\n",
        "  if pred == res['label'][idx]:\n",
        "    correct += 1\n",
        "print('test accuracy = %.4f'%(correct/len(test_df)))"
      ]
    }
  ],
  "metadata": {
    "accelerator": "GPU",
    "colab": {
      "collapsed_sections": [
        "8zVpYXmzXyQ4",
        "kFHx_Dq5XyQ7",
        "ioYB1sE_XyRA",
        "le1XiOWDXyRE",
        "RQsY2rjue4Tm",
        "IJpQ20GSZOoV"
      ],
      "provenance": []
    },
    "gpuClass": "standard",
    "kernelspec": {
      "display_name": "Python 3",
      "language": "python",
      "name": "python3"
    },
    "language_info": {
      "codemirror_mode": {
        "name": "ipython",
        "version": 3
      },
      "file_extension": ".py",
      "mimetype": "text/x-python",
      "name": "python",
      "nbconvert_exporter": "python",
      "pygments_lexer": "ipython3",
      "version": "3.8.5"
    }
  },
  "nbformat": 4,
  "nbformat_minor": 5
}
